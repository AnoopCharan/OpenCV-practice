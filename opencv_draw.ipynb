{
 "cells": [
  {
   "cell_type": "code",
   "execution_count": 1,
   "id": "c01107cb",
   "metadata": {},
   "outputs": [],
   "source": [
    "import cv2 as cv\n",
    "import numpy as np\n"
   ]
  },
  {
   "cell_type": "code",
   "execution_count": 67,
   "id": "ff467f98",
   "metadata": {},
   "outputs": [],
   "source": [
    "blank = np.zeros((500,500,3), dtype='uint8') #uint8 is for image \n",
    "# cv.imshow('Blank', blank)\n",
    "# cv.waitKey(0)"
   ]
  },
  {
   "cell_type": "markdown",
   "id": "1fae5c7b",
   "metadata": {},
   "source": [
    "Paint some color"
   ]
  },
  {
   "cell_type": "code",
   "execution_count": 71,
   "id": "dd285f32",
   "metadata": {},
   "outputs": [
    {
     "data": {
      "text/plain": [
       "-1"
      ]
     },
     "execution_count": 71,
     "metadata": {},
     "output_type": "execute_result"
    }
   ],
   "source": [
    "blank = np.zeros((500,500,3), dtype='uint8') #uint8 is for image \n",
    "red=blank\n",
    "# red[:, 50:60] = 0,0,200\n",
    "red[240:260, 240:260] = 255,255,255\n",
    "\n",
    "cv.imshow('red', red)\n",
    "cv.waitKey(0)"
   ]
  },
  {
   "cell_type": "code",
   "execution_count": 52,
   "id": "935467f1",
   "metadata": {},
   "outputs": [
    {
     "name": "stdout",
     "output_type": "stream",
     "text": [
      "[0 0 0]\n"
     ]
    }
   ],
   "source": [
    "print(red[1,1])"
   ]
  },
  {
   "cell_type": "markdown",
   "id": "aa2229df",
   "metadata": {},
   "source": [
    "Draw rectangle"
   ]
  },
  {
   "cell_type": "code",
   "execution_count": 74,
   "id": "60a6554d",
   "metadata": {},
   "outputs": [
    {
     "data": {
      "text/plain": [
       "-1"
      ]
     },
     "execution_count": 74,
     "metadata": {},
     "output_type": "execute_result"
    }
   ],
   "source": [
    "blank = np.zeros((500,500,3), dtype='uint8') #uint8 is for image \n",
    "cv.rectangle(blank, (10,0), (250,500),(255,0,0), thickness=-1) # thickness= cv.Fill / -1\n",
    "cv.imshow('rectangle', blank)\n",
    "cv.waitKey(0)"
   ]
  },
  {
   "cell_type": "markdown",
   "id": "8ad34eba",
   "metadata": {},
   "source": [
    "## draw a circle"
   ]
  },
  {
   "cell_type": "code",
   "execution_count": 75,
   "id": "f9aecf5d",
   "metadata": {},
   "outputs": [
    {
     "name": "stdout",
     "output_type": "stream",
     "text": [
      "Help on built-in function circle:\n",
      "\n",
      "circle(...)\n",
      "    circle(img, center, radius, color[, thickness[, lineType[, shift]]]) -> img\n",
      "    .   @brief Draws a circle.\n",
      "    .   \n",
      "    .   The function cv::circle draws a simple or filled circle with a given center and radius.\n",
      "    .   @param img Image where the circle is drawn.\n",
      "    .   @param center Center of the circle.\n",
      "    .   @param radius Radius of the circle.\n",
      "    .   @param color Circle color.\n",
      "    .   @param thickness Thickness of the circle outline, if positive. Negative values, like #FILLED,\n",
      "    .   mean that a filled circle is to be drawn.\n",
      "    .   @param lineType Type of the circle boundary. See #LineTypes\n",
      "    .   @param shift Number of fractional bits in the coordinates of the center and in the radius value.\n",
      "\n"
     ]
    }
   ],
   "source": [
    "blank = np.zeros((500,500,3), dtype='uint8') #uint8 is for image \n",
    "help(cv.circle)"
   ]
  },
  {
   "cell_type": "code",
   "execution_count": null,
   "id": "d9ed5ec8",
   "metadata": {},
   "outputs": [],
   "source": []
  }
 ],
 "metadata": {
  "kernelspec": {
   "display_name": "Python 3",
   "language": "python",
   "name": "python3"
  },
  "language_info": {
   "codemirror_mode": {
    "name": "ipython",
    "version": 3
   },
   "file_extension": ".py",
   "mimetype": "text/x-python",
   "name": "python",
   "nbconvert_exporter": "python",
   "pygments_lexer": "ipython3",
   "version": "3.8.8"
  }
 },
 "nbformat": 4,
 "nbformat_minor": 5
}
