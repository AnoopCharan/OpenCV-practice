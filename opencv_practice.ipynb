{
 "cells": [
  {
   "cell_type": "markdown",
   "id": "ea627af6",
   "metadata": {},
   "source": [
    "install opencv-contrib-python for full features , install caer for utilties "
   ]
  },
  {
   "cell_type": "code",
   "execution_count": 21,
   "id": "256c7ea1",
   "metadata": {},
   "outputs": [],
   "source": [
    "import cv2 as cv"
   ]
  },
  {
   "cell_type": "code",
   "execution_count": 22,
   "id": "6be44e4b",
   "metadata": {},
   "outputs": [],
   "source": [
    "def rescaleFrame(frame, scale=0.5):\n",
    "    width = int(frame.shape[1] * scale) \n",
    "    height = int(frame.shape[0] * scale)\n",
    "    dims=(width, height)\n",
    "    return cv.resize(frame, dims, interpolation = cv.INTER_AREA)"
   ]
  },
  {
   "cell_type": "code",
   "execution_count": 25,
   "id": "775c282d",
   "metadata": {},
   "outputs": [
    {
     "data": {
      "text/plain": [
       "(4032, 3024, 3)"
      ]
     },
     "execution_count": 25,
     "metadata": {},
     "output_type": "execute_result"
    }
   ],
   "source": [
    "img =cv.imread('5.jpg')\n",
    "img.shape"
   ]
  },
  {
   "cell_type": "code",
   "execution_count": 14,
   "id": "10b37be4",
   "metadata": {},
   "outputs": [
    {
     "name": "stdout",
     "output_type": "stream",
     "text": [
      "image shape before scaling  (4032, 3024, 3)\n",
      "image shape after scaling  (806, 604, 3)\n"
     ]
    }
   ],
   "source": [
    "print('image shape before scaling ', img.shape)\n",
    "imgscaled = rescaleFrame(img, 0.2)\n",
    "print('image shape after scaling ', imgscaled.shape)\n"
   ]
  },
  {
   "cell_type": "code",
   "execution_count": 6,
   "id": "6852e84c",
   "metadata": {},
   "outputs": [
    {
     "data": {
      "text/plain": [
       "-1"
      ]
     },
     "execution_count": 6,
     "metadata": {},
     "output_type": "execute_result"
    }
   ],
   "source": [
    "cv.imshow('5', imgscaled)\n",
    "cv.waitKey(0)\n",
    "# if cv.waitKey(0) & 0xFF == ord('q'):\n",
    "#    cv.destroyAllWindows()"
   ]
  },
  {
   "cell_type": "code",
   "execution_count": null,
   "id": "e3920f3a",
   "metadata": {},
   "outputs": [],
   "source": [
    "def changeres(width, height):\n",
    "    capture.set(3,width)\n",
    "    ca"
   ]
  },
  {
   "cell_type": "code",
   "execution_count": 23,
   "id": "7902f5c7",
   "metadata": {},
   "outputs": [],
   "source": [
    "# for video read and display\n",
    "capture = cv.VideoCapture('4.mp4')\n",
    "while True:\n",
    "    isTrue, frame = capture.read()\n",
    "#     print((isTrue, type(frame)))\n",
    "# if cv cant read any more frames, exit the loop\n",
    "    if isTrue == False:\n",
    "        break\n",
    "    else:\n",
    "        frame_resized = rescaleFrame(frame, 0.5)\n",
    "        cv.imshow('Video', frame_resized)\n",
    "        \n",
    "    \n",
    "    if cv.waitKey(20) & 0xFF == 27:\n",
    "        break\n",
    "capture.release()\n",
    "cv.destroyAllWindows()"
   ]
  },
  {
   "cell_type": "code",
   "execution_count": null,
   "id": "3fa56e24",
   "metadata": {},
   "outputs": [],
   "source": []
  }
 ],
 "metadata": {
  "kernelspec": {
   "display_name": "Python 3",
   "language": "python",
   "name": "python3"
  },
  "language_info": {
   "codemirror_mode": {
    "name": "ipython",
    "version": 3
   },
   "file_extension": ".py",
   "mimetype": "text/x-python",
   "name": "python",
   "nbconvert_exporter": "python",
   "pygments_lexer": "ipython3",
   "version": "3.8.8"
  }
 },
 "nbformat": 4,
 "nbformat_minor": 5
}
